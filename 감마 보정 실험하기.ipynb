{
 "cells": [
  {
   "cell_type": "code",
   "execution_count": null,
   "metadata": {},
   "outputs": [],
   "source": [
    "import cv2 as cv\n",
    "import numpy as np\n",
    "\n",
    "img = cv.imread('./soccer.jpg')\n",
    "img = cv.resize(img, dsize=(0, 0), fx=0.25, fy=0.25)\n",
    "\n",
    "\n",
    "def gamma(f, gamma=1.0):\n",
    "    f1 = f/255.0\n",
    "    return np.uint8(255*(f1**gamma))\n",
    "\n",
    "\n",
    "gc = np.hstack((gamma(img, 0.5), gamma(img, 0.75), gamma(\n",
    "    img, 1.0), gamma(img, 2.0), gamma(img, 3.0)))\n",
    "cv.imshow('gamma', gc)\n",
    "\n",
    "cv.waitKey()\n",
    "cv.destroyAllWindows()\n"
   ]
  }
 ],
 "metadata": {
  "kernelspec": {
   "display_name": "ai_env",
   "language": "python",
   "name": "python3"
  },
  "language_info": {
   "name": "python",
   "version": "3.11.9"
  },
  "orig_nbformat": 4
 },
 "nbformat": 4,
 "nbformat_minor": 2
}
