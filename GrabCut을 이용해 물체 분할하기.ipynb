{
 "cells": [
  {
   "cell_type": "code",
   "execution_count": 1,
   "metadata": {},
   "outputs": [],
   "source": [
    "import cv2 as cv\n",
    "import numpy as np\n",
    "\n",
    "img = cv.imread('./soccer.jpg')\n",
    "img_show = np.copy(img)\n",
    "\n",
    "mask = np.zeros((img.shape[0], img.shape[1]), np.uint8)\n",
    "mask[:, :] = cv.GC_PR_BGD\n",
    "\n",
    "BrushSiz = 9\n",
    "LColor, RColor = (255, 0, 0), (0, 0, 255)\n",
    "\n",
    "\n",
    "def painting(event, x, y, flags, param):\n",
    "    if event == cv.EVENT_LBUTTONDOWN:\n",
    "        cv.circle(img_show, (x, y), BrushSiz, LColor, -1)\n",
    "        cv.circle(mask, (x, y), BrushSiz, cv.GC_FGD, -1)\n",
    "    elif event == cv.EVENT_RBUTTONDOWN:\n",
    "        cv.circle(img_show, (x, y), BrushSiz, RColor, -1)\n",
    "        cv.circle(mask, (x, y), BrushSiz, cv.GC_BGD, -1)\n",
    "    elif event == cv.EVENT_MOUSEMOVE and flags == cv.EVENT_FLAG_LBUTTON:\n",
    "        cv.circle(img_show, (x, y), BrushSiz, LColor, -1)\n",
    "        cv.circle(mask, (x, y), BrushSiz, cv.GC_FGD, -1)\n",
    "    elif event == cv.EVENT_MOUSEMOVE and flags == cv.EVENT_FLAG_RBUTTON:\n",
    "        cv.circle(img_show, (x, y), BrushSiz, RColor, -1)\n",
    "        cv.circle(mask, (x, y), BrushSiz, cv.GC_BGD, -1)\n",
    "\n",
    "    cv.imshow('Painting', img_show)\n",
    "\n",
    "\n",
    "cv.namedWindow('Painting')\n",
    "cv.setMouseCallback('Painting', painting)\n",
    "\n",
    "while (True):\n",
    "    if cv.waitKey(1) == ord('q'):\n",
    "        break\n",
    "\n",
    "background = np.zeros((1, 65), np.float64)\n",
    "foreground = np.zeros((1, 65), np.float64)\n",
    "cv.grabCut(img, mask, None, background, foreground, 5, cv.GC_INIT_WITH_MASK)\n",
    "mask2 = np.where((mask == cv.GC_BGD) | (\n",
    "    mask == cv.GC_PR_BGD), 0, 1).astype('uint8')\n",
    "grab = img*mask2[:, :, np.newaxis]\n",
    "cv.imshow('Grab cut image', grab)\n",
    "\n",
    "cv.waitKey()\n",
    "cv.destroyAllWindows()\n"
   ]
  }
 ],
 "metadata": {
  "kernelspec": {
   "display_name": "ai_env",
   "language": "python",
   "name": "python3"
  },
  "language_info": {
   "codemirror_mode": {
    "name": "ipython",
    "version": 3
   },
   "file_extension": ".py",
   "mimetype": "text/x-python",
   "name": "python",
   "nbconvert_exporter": "python",
   "pygments_lexer": "ipython3",
   "version": "3.11.9"
  },
  "orig_nbformat": 4
 },
 "nbformat": 4,
 "nbformat_minor": 2
}
