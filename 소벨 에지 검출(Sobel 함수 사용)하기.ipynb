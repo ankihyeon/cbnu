{
 "cells": [
  {
   "cell_type": "code",
   "execution_count": 1,
   "metadata": {},
   "outputs": [],
   "source": [
    "import cv2 as cv\n",
    "\n",
    "img = cv.imread('./soccer.jpg')\n",
    "gray = cv.cvtColor(img, cv.COLOR_BGR2GRAY)\n",
    "\n",
    "grad_x = cv.Sobel(gray, cv.CV_32F, 1, 0, ksize=3)\n",
    "grad_y = cv.Sobel(gray, cv.CV_32F, 0, 1, ksize=3)\n",
    "\n",
    "sobel_x = cv.convertScaleAbs(grad_x)\n",
    "sobel_y = cv.convertScaleAbs(grad_y)\n",
    "\n",
    "edge_strength = cv.addWeighted(sobel_x, 0.5, sobel_y, 0.5, 0)\n",
    "\n",
    "cv.imshow('Original', gray)\n",
    "cv.imshow('sobelx', sobel_x)\n",
    "cv.imshow('sobely', sobel_y)\n",
    "cv.imshow('edge strength', edge_strength)\n",
    "\n",
    "cv.waitKey()\n",
    "cv.destroyAllWindows()\n"
   ]
  }
 ],
 "metadata": {
  "kernelspec": {
   "display_name": "ai_env",
   "language": "python",
   "name": "python3"
  },
  "language_info": {
   "codemirror_mode": {
    "name": "ipython",
    "version": 3
   },
   "file_extension": ".py",
   "mimetype": "text/x-python",
   "name": "python",
   "nbconvert_exporter": "python",
   "pygments_lexer": "ipython3",
   "version": "3.11.9"
  },
  "orig_nbformat": 4
 },
 "nbformat": 4,
 "nbformat_minor": 2
}
