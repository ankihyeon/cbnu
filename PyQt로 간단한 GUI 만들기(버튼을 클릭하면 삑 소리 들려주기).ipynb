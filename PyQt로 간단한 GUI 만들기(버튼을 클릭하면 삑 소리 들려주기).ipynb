{
 "cells": [
  {
   "cell_type": "code",
   "execution_count": 2,
   "metadata": {},
   "outputs": [
    {
     "data": {
      "text/plain": [
       "0"
      ]
     },
     "execution_count": 2,
     "metadata": {},
     "output_type": "execute_result"
    }
   ],
   "source": [
    "from PyQt5.QtWidgets import *\n",
    "import sys\n",
    "import winsound\n",
    "\n",
    "\n",
    "class BeepSound(QMainWindow):\n",
    "    def __init__(self):\n",
    "        super().__init__()\n",
    "        self.setWindowTitle('삑 소리 내기')\n",
    "        self.setGeometry(200, 200, 500, 100)\n",
    "\n",
    "        shortBeepButton = QPushButton('짧게 삑', self)\n",
    "        longBeepButton = QPushButton('길게 삑', self)\n",
    "        quitButton = QPushButton('나가기', self)\n",
    "        self.label = QLabel('환영합니다!', self)\n",
    "\n",
    "        shortBeepButton.setGeometry(10, 10, 100, 30)\n",
    "        longBeepButton.setGeometry(110, 10, 100, 30)\n",
    "        quitButton.setGeometry(210, 10, 100, 30)\n",
    "        self.label.setGeometry(10, 40, 500, 70)\n",
    "\n",
    "        shortBeepButton.clicked.connect(self.shortBeepFunction)\n",
    "        longBeepButton.clicked.connect(self.longBeepFunction)\n",
    "        quitButton.clicked.connect(self.quitFunction)\n",
    "\n",
    "    def shortBeepFunction(self):\n",
    "        self.label.setText('주파수 1000으로 0.5초 동안 삑 소리를 냅니다.')\n",
    "        winsound.Beep(1000, 500)\n",
    "\n",
    "    def longBeepFunction(self):\n",
    "        self.label.setText('주파수 1000으로 3초 동안 삑 소리를 냅니다.')\n",
    "        winsound.Beep(1000, 3000)\n",
    "\n",
    "    def quitFunction(self):\n",
    "        self.close()\n",
    "\n",
    "\n",
    "app = QApplication(sys.argv)\n",
    "win = BeepSound()\n",
    "win.show()\n",
    "app.exec_()\n"
   ]
  },
  {
   "cell_type": "code",
   "execution_count": 1,
   "metadata": {},
   "outputs": [
    {
     "name": "stdout",
     "output_type": "stream",
     "text": [
      "Collecting PyQt5\n",
      "  Downloading PyQt5-5.15.11-cp38-abi3-win_amd64.whl.metadata (2.1 kB)\n",
      "Collecting PyQt5-sip<13,>=12.15 (from PyQt5)\n",
      "  Downloading PyQt5_sip-12.17.0-cp311-cp311-win_amd64.whl.metadata (492 bytes)\n",
      "Collecting PyQt5-Qt5<5.16.0,>=5.15.2 (from PyQt5)\n",
      "  Downloading PyQt5_Qt5-5.15.2-py3-none-win_amd64.whl.metadata (552 bytes)\n",
      "Downloading PyQt5-5.15.11-cp38-abi3-win_amd64.whl (6.9 MB)\n",
      "   ---------------------------------------- 0.0/6.9 MB ? eta -:--:--\n",
      "   ---------------------------------------- 0.0/6.9 MB 1.3 MB/s eta 0:00:06\n",
      "   - -------------------------------------- 0.2/6.9 MB 3.4 MB/s eta 0:00:02\n",
      "   --- ------------------------------------ 0.6/6.9 MB 5.5 MB/s eta 0:00:02\n",
      "   ------ --------------------------------- 1.1/6.9 MB 7.1 MB/s eta 0:00:01\n",
      "   ---------- ----------------------------- 1.8/6.9 MB 8.9 MB/s eta 0:00:01\n",
      "   --------------- ------------------------ 2.7/6.9 MB 10.8 MB/s eta 0:00:01\n",
      "   --------------------- ------------------ 3.7/6.9 MB 12.5 MB/s eta 0:00:01\n",
      "   --------------------------- ------------ 4.7/6.9 MB 13.6 MB/s eta 0:00:01\n",
      "   ---------------------------------- ----- 5.9/6.9 MB 15.1 MB/s eta 0:00:01\n",
      "   ---------------------------------------  6.9/6.9 MB 16.2 MB/s eta 0:00:01\n",
      "   ---------------------------------------- 6.9/6.9 MB 15.7 MB/s eta 0:00:00\n",
      "Downloading PyQt5_Qt5-5.15.2-py3-none-win_amd64.whl (50.1 MB)\n",
      "   ---------------------------------------- 0.0/50.1 MB ? eta -:--:--\n",
      "    --------------------------------------- 1.2/50.1 MB 25.1 MB/s eta 0:00:02\n",
      "   - -------------------------------------- 2.3/50.1 MB 24.8 MB/s eta 0:00:02\n",
      "   -- ------------------------------------- 3.7/50.1 MB 26.1 MB/s eta 0:00:02\n",
      "   --- ------------------------------------ 4.7/50.1 MB 24.8 MB/s eta 0:00:02\n",
      "   ---- ----------------------------------- 5.3/50.1 MB 22.4 MB/s eta 0:00:02\n",
      "   ----- ---------------------------------- 6.5/50.1 MB 22.9 MB/s eta 0:00:02\n",
      "   ------ --------------------------------- 7.6/50.1 MB 22.9 MB/s eta 0:00:02\n",
      "   ------- -------------------------------- 8.9/50.1 MB 23.7 MB/s eta 0:00:02\n",
      "   -------- ------------------------------- 10.2/50.1 MB 24.1 MB/s eta 0:00:02\n",
      "   --------- ------------------------------ 11.4/50.1 MB 24.2 MB/s eta 0:00:02\n",
      "   ---------- ----------------------------- 12.6/50.1 MB 24.2 MB/s eta 0:00:02\n",
      "   ---------- ----------------------------- 12.8/50.1 MB 23.4 MB/s eta 0:00:02\n",
      "   ---------- ----------------------------- 13.0/50.1 MB 20.5 MB/s eta 0:00:02\n",
      "   ---------- ----------------------------- 13.3/50.1 MB 19.2 MB/s eta 0:00:02\n",
      "   ----------- ---------------------------- 13.9/50.1 MB 18.2 MB/s eta 0:00:02\n",
      "   ------------ --------------------------- 15.2/50.1 MB 19.3 MB/s eta 0:00:02\n",
      "   ------------- -------------------------- 16.6/50.1 MB 19.9 MB/s eta 0:00:02\n",
      "   -------------- ------------------------- 18.1/50.1 MB 20.5 MB/s eta 0:00:02\n",
      "   --------------- ------------------------ 19.3/50.1 MB 19.8 MB/s eta 0:00:02\n",
      "   ---------------- ----------------------- 20.6/50.1 MB 20.5 MB/s eta 0:00:02\n",
      "   ----------------- ---------------------- 22.1/50.1 MB 21.1 MB/s eta 0:00:02\n",
      "   ------------------ --------------------- 23.5/50.1 MB 27.3 MB/s eta 0:00:01\n",
      "   ------------------- -------------------- 24.8/50.1 MB 29.7 MB/s eta 0:00:01\n",
      "   -------------------- ------------------- 26.2/50.1 MB 29.8 MB/s eta 0:00:01\n",
      "   --------------------- ------------------ 27.4/50.1 MB 28.5 MB/s eta 0:00:01\n",
      "   ---------------------- ----------------- 27.6/50.1 MB 27.3 MB/s eta 0:00:01\n",
      "   ---------------------- ----------------- 27.9/50.1 MB 24.3 MB/s eta 0:00:01\n",
      "   ---------------------- ----------------- 28.7/50.1 MB 22.6 MB/s eta 0:00:01\n",
      "   ----------------------- ---------------- 29.9/50.1 MB 22.6 MB/s eta 0:00:01\n",
      "   ------------------------- -------------- 31.4/50.1 MB 23.4 MB/s eta 0:00:01\n",
      "   -------------------------- ------------- 32.6/50.1 MB 21.8 MB/s eta 0:00:01\n",
      "   --------------------------- ------------ 33.9/50.1 MB 21.9 MB/s eta 0:00:01\n",
      "   ---------------------------- ----------- 35.2/50.1 MB 21.9 MB/s eta 0:00:01\n",
      "   ----------------------------- ---------- 36.5/50.1 MB 21.8 MB/s eta 0:00:01\n",
      "   ------------------------------ --------- 38.0/50.1 MB 25.2 MB/s eta 0:00:01\n",
      "   ------------------------------- -------- 39.1/50.1 MB 27.3 MB/s eta 0:00:01\n",
      "   -------------------------------- ------- 40.1/50.1 MB 26.2 MB/s eta 0:00:01\n",
      "   --------------------------------- ------ 41.5/50.1 MB 26.2 MB/s eta 0:00:01\n",
      "   ---------------------------------- ----- 42.8/50.1 MB 27.3 MB/s eta 0:00:01\n",
      "   ----------------------------------- ---- 44.1/50.1 MB 27.3 MB/s eta 0:00:01\n",
      "   ------------------------------------ --- 45.5/50.1 MB 27.3 MB/s eta 0:00:01\n",
      "   ------------------------------------- -- 47.0/50.1 MB 27.3 MB/s eta 0:00:01\n",
      "   -------------------------------------- - 48.4/50.1 MB 27.3 MB/s eta 0:00:01\n",
      "   ---------------------------------------  49.7/50.1 MB 28.5 MB/s eta 0:00:01\n",
      "   ---------------------------------------  50.1/50.1 MB 29.7 MB/s eta 0:00:01\n",
      "   ---------------------------------------- 50.1/50.1 MB 25.2 MB/s eta 0:00:00\n",
      "Downloading PyQt5_sip-12.17.0-cp311-cp311-win_amd64.whl (59 kB)\n",
      "   ---------------------------------------- 0.0/59.0 kB ? eta -:--:--\n",
      "   ---------------------------------------- 59.0/59.0 kB ? eta 0:00:00\n",
      "Installing collected packages: PyQt5-Qt5, PyQt5-sip, PyQt5\n",
      "Successfully installed PyQt5-5.15.11 PyQt5-Qt5-5.15.2 PyQt5-sip-12.17.0\n",
      "Note: you may need to restart the kernel to use updated packages.\n"
     ]
    }
   ],
   "source": [
    "%pip install PyQt5"
   ]
  }
 ],
 "metadata": {
  "kernelspec": {
   "display_name": "ai_env",
   "language": "python",
   "name": "python3"
  },
  "language_info": {
   "codemirror_mode": {
    "name": "ipython",
    "version": 3
   },
   "file_extension": ".py",
   "mimetype": "text/x-python",
   "name": "python",
   "nbconvert_exporter": "python",
   "pygments_lexer": "ipython3",
   "version": "3.11.9"
  },
  "orig_nbformat": 4
 },
 "nbformat": 4,
 "nbformat_minor": 2
}
