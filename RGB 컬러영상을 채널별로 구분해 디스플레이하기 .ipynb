{
 "cells": [
  {
   "cell_type": "code",
   "execution_count": 1,
   "metadata": {},
   "outputs": [],
   "source": [
    "import cv2 as cv\n",
    "import sys\n",
    "\n",
    "img = cv.imread(\"./soccer.jpg\")\n",
    "\n",
    "if img is None:\n",
    "    sys.exit(\"파일을 찾을 수 없습니다.\")\n",
    "\n",
    "cv.imshow('original_RGB', img)\n",
    "cv.imshow('Upper left half', img[0:img.shape[0]//2, 0:img.shape[1]//2, :])\n",
    "cv.imshow('Center half', img[img.shape[0]//4:3 *\n",
    "          img.shape[0]//4, img.shape[1]//4:3*img.shape[1]//4, :])\n",
    "\n",
    "cv.imshow('R channel', img[:, :, 2])\n",
    "cv.imshow('G channel', img[:, :, 1])\n",
    "cv.imshow('B channel', img[:, :, 0])\n",
    "\n",
    "cv.waitKey()\n",
    "cv.destroyAllWindows()\n"
   ]
  }
 ],
 "metadata": {
  "kernelspec": {
   "display_name": "ai_env",
   "language": "python",
   "name": "python3"
  },
  "language_info": {
   "codemirror_mode": {
    "name": "ipython",
    "version": 3
   },
   "file_extension": ".py",
   "mimetype": "text/x-python",
   "name": "python",
   "nbconvert_exporter": "python",
   "pygments_lexer": "ipython3",
   "version": "3.11.9"
  },
  "orig_nbformat": 4
 },
 "nbformat": 4,
 "nbformat_minor": 2
}
