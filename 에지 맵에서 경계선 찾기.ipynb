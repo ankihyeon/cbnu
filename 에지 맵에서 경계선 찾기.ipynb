{
 "cells": [
  {
   "cell_type": "code",
   "execution_count": 1,
   "metadata": {},
   "outputs": [],
   "source": [
    "import cv2 as cv\n",
    "import numpy as np\n",
    "\n",
    "img = cv.imread('./soccer.jpg')\n",
    "gray = cv.cvtColor(img, cv.COLOR_BGR2GRAY)\n",
    "canny = cv.Canny(gray, 100, 200)\n",
    "\n",
    "contour, hierarchy = cv.findContours(canny, cv.RETR_LIST, cv.CHAIN_APPROX_NONE)\n",
    "\n",
    "lcontour = []\n",
    "for i in range(len(contour)):\n",
    "    if contour[i].shape[0] > 100:\n",
    "        lcontour.append(contour[i])\n",
    "\n",
    "cv.drawContours(img, lcontour, -1, (0, 255, 0), 3)\n",
    "\n",
    "cv.imshow('Original with contours', img)\n",
    "cv.imshow('Canny', canny)\n",
    "\n",
    "cv.waitKey()\n",
    "cv.destroyAllWindows()\n"
   ]
  }
 ],
 "metadata": {
  "kernelspec": {
   "display_name": "ai_env",
   "language": "python",
   "name": "python3"
  },
  "language_info": {
   "codemirror_mode": {
    "name": "ipython",
    "version": 3
   },
   "file_extension": ".py",
   "mimetype": "text/x-python",
   "name": "python",
   "nbconvert_exporter": "python",
   "pygments_lexer": "ipython3",
   "version": "3.11.9"
  },
  "orig_nbformat": 4
 },
 "nbformat": 4,
 "nbformat_minor": 2
}
