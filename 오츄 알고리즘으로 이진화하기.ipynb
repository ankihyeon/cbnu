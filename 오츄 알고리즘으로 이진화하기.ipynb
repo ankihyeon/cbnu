{
 "cells": [
  {
   "cell_type": "code",
   "execution_count": 1,
   "metadata": {},
   "outputs": [
    {
     "name": "stdout",
     "output_type": "stream",
     "text": [
      "오츄 알고리즘이 찾은 최적 임곗값= 113.0\n"
     ]
    }
   ],
   "source": [
    "import cv2 as cv\n",
    "import sys\n",
    "\n",
    "img = cv.imread('./soccer.jpg')\n",
    "\n",
    "t, bin_img = cv.threshold(img[:, :, 2], 0, 255,\n",
    "                          cv.THRESH_BINARY + cv.THRESH_OTSU)\n",
    "print('오츄 알고리즘이 찾은 최적 임곗값=', t)\n",
    "\n",
    "cv.imshow('R channel', img[:, :, 2])\n",
    "cv.imshow('R channel binarization', bin_img)\n",
    "\n",
    "cv.waitKey()\n",
    "cv.destroyAllWindows()\n"
   ]
  }
 ],
 "metadata": {
  "kernelspec": {
   "display_name": "ai_env",
   "language": "python",
   "name": "python3"
  },
  "language_info": {
   "codemirror_mode": {
    "name": "ipython",
    "version": 3
   },
   "file_extension": ".py",
   "mimetype": "text/x-python",
   "name": "python",
   "nbconvert_exporter": "python",
   "pygments_lexer": "ipython3",
   "version": "3.11.9"
  },
  "orig_nbformat": 4
 },
 "nbformat": 4,
 "nbformat_minor": 2
}
