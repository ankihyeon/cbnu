{
 "cells": [
  {
   "cell_type": "code",
   "execution_count": 1,
   "metadata": {},
   "outputs": [],
   "source": [
    "import cv2 as cv\n",
    "\n",
    "img = cv.imread('./soccer.jpg')\n",
    "patch = img[250:350, 170:270, :]\n",
    "\n",
    "img = cv.rectangle(img, (170, 250), (270, 350), (255, 0, 0), 3)\n",
    "patch1 = cv.resize(patch, dsize=(0, 0), fx=5, fy=5,\n",
    "                   interpolation=cv.INTER_NEAREST)\n",
    "patch2 = cv.resize(patch, dsize=(0, 0), fx=5, fy=5,\n",
    "                   interpolation=cv.INTER_LINEAR)\n",
    "patch3 = cv.resize(patch, dsize=(0, 0), fx=5, fy=5,\n",
    "                   interpolation=cv.INTER_CUBIC)\n",
    "\n",
    "cv.imshow('Original', img)\n",
    "cv.imshow('Resize nearest', patch1)\n",
    "cv.imshow('Resize bilinear', patch2)\n",
    "cv.imshow('Resize bicubic', patch3)\n",
    "\n",
    "cv.waitKey()\n",
    "cv.destroyAllWindows()\n"
   ]
  }
 ],
 "metadata": {
  "kernelspec": {
   "display_name": "ai_env",
   "language": "python",
   "name": "python3"
  },
  "language_info": {
   "codemirror_mode": {
    "name": "ipython",
    "version": 3
   },
   "file_extension": ".py",
   "mimetype": "text/x-python",
   "name": "python",
   "nbconvert_exporter": "python",
   "pygments_lexer": "ipython3",
   "version": "3.11.9"
  },
  "orig_nbformat": 4
 },
 "nbformat": 4,
 "nbformat_minor": 2
}
