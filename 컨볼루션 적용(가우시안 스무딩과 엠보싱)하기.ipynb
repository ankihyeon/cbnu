{
 "cells": [
  {
   "cell_type": "code",
   "execution_count": null,
   "metadata": {},
   "outputs": [],
   "source": [
    "import cv2 as cv\n",
    "import numpy as np\n",
    "\n",
    "img = cv.imread('./soccer.jpg')\n",
    "img = cv.resize(img, dsize=(0, 0), fx=0.4, fy=0.4)\n",
    "gray = cv.cvtColor(img, cv.COLOR_BGR2GRAY)\n",
    "cv.putText(gray, 'soccer', (10, 20),\n",
    "           cv.FONT_HERSHEY_SIMPLEX, 0.7, (255, 255, 255), 2)\n",
    "cv.imshow('Original', gray)\n",
    "\n",
    "smooth = np.hstack((cv.GaussianBlur(gray, (5, 5), 0.0), cv.GaussianBlur(\n",
    "    gray, (9, 9), 0.0), cv.GaussianBlur(gray, (15, 15), 0.0)))\n",
    "cv.imshow('Smooth', smooth)\n",
    "\n",
    "femboss = np.array([[-1.0, 0.0, 0.0],\n",
    "                    [0.0, 0.0, 0.0],\n",
    "                    [0.0, 0.0, 1.0]])\n",
    "\n",
    "gray16 = np.int16(gray)\n",
    "emboss = np.uint8(np.clip(cv.filter2D(gray16, -1, femboss)+128, 0, 255))\n",
    "emboss_bad = np.uint8(cv.filter2D(gray16, -1, femboss)+128)\n",
    "emboss_worse = cv.filter2D(gray, -1, femboss)\n",
    "\n",
    "cv.imshow('Emboss', emboss)\n",
    "cv.imshow('Emboss_bad', emboss_bad)\n",
    "cv.imshow('Emboss_worse', emboss_worse)\n",
    "\n",
    "cv.waitKey()\n",
    "cv.destroyAllWindows()\n"
   ]
  }
 ],
 "metadata": {
  "kernelspec": {
   "display_name": "ai_env",
   "language": "python",
   "name": "python3"
  },
  "language_info": {
   "name": "python",
   "version": "3.11.9"
  },
  "orig_nbformat": 4
 },
 "nbformat": 4,
 "nbformat_minor": 2
}
