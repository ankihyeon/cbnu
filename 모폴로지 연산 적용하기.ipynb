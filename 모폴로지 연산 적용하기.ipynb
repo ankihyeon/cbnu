{
 "cells": [
  {
   "cell_type": "code",
   "execution_count": null,
   "metadata": {},
   "outputs": [],
   "source": [
    "import cv2 as cv\n",
    "import numpy as np\n",
    "import matplotlib.pyplot as plt\n",
    "\n",
    "img = cv.imread('./soccer.jpg', cv.IMREAD_UNCHANGED)\n",
    "\n",
    "t, bin_img = cv.threshold(img[:, :, 3], 0, 255,\n",
    "                          cv.THRESH_BINARY+cv.THRESH_OTSU)\n",
    "plt.imshow(bin_img, cmap='gray'), plt.xticks([]), plt.yticks([])\n",
    "plt.show()\n",
    "\n",
    "b = bin_img[bin_img.shape[0]//2:bin_img.shape[0], 0:bin_img.shape[0]//2+1]\n",
    "plt.imshow(b, cmap='gray'), plt.xticks([]), plt.yticks([])\n",
    "plt.show()\n",
    "\n",
    "se = np.uint8([[0, 0, 1, 0, 0],\n",
    "               [0, 1, 1, 1, 0],\n",
    "               [1, 1, 1, 1, 1],\n",
    "               [0, 1, 1, 1, 0],\n",
    "               [0, 0, 1, 0, 0]])\n",
    "\n",
    "b_dilation = cv.dilate(b, se, iterations=1)\n",
    "plt.imshow(b_dilation, cmap='gray'), plt.xticks([]), plt.yticks([])\n",
    "plt.show()\n",
    "\n",
    "b_erosion = cv.erode(b, se, iterations=1)\n",
    "plt.imshow(b_erosion, cmap='gray'), plt.xticks([]), plt.yticks([])\n",
    "plt.show()\n",
    "\n",
    "b_closing = cv.erode(cv.dilate(b, se, iterations=1), se, iterations=1)\n",
    "plt.imshow(b_closing, cmap='gray'), plt.xticks([]), plt.yticks([])\n",
    "plt.show()\n"
   ]
  }
 ],
 "metadata": {
  "kernelspec": {
   "display_name": "ai_env",
   "language": "python",
   "name": "python3"
  },
  "language_info": {
   "name": "python",
   "version": "3.11.9"
  },
  "orig_nbformat": 4
 },
 "nbformat": 4,
 "nbformat_minor": 2
}
