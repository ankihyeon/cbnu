{
 "cells": [
  {
   "cell_type": "code",
   "execution_count": 1,
   "metadata": {},
   "outputs": [
    {
     "name": "stdout",
     "output_type": "stream",
     "text": [
      "My time1: 3.7695863246917725\n",
      "My time2: 0.015000343322753906\n",
      "OpenCV time: 0.006001472473144531\n"
     ]
    }
   ],
   "source": [
    "import cv2 as cv\n",
    "import numpy as np\n",
    "import time\n",
    "\n",
    "\n",
    "def my_cvtGray1(bgr_img):\n",
    "    g = np.zeros([bgr_img.shape[0], bgr_img.shape[1]])\n",
    "    for r in range(bgr_img.shape[0]):\n",
    "        for c in range(bgr_img.shape[1]):\n",
    "            g[r, c] = 0.114*bgr_img[r, c, 0]+0.587 * \\\n",
    "                bgr_img[r, c, 1]+0.299*bgr_img[r, c, 2]\n",
    "    return np.uint8(g)\n",
    "\n",
    "\n",
    "def my_cvtGray2(bgr_img):\n",
    "    g = np.zeros([bgr_img.shape[0], bgr_img.shape[1]])\n",
    "    g = 0.114*bgr_img[:, :, 0]+0.587*bgr_img[:, :, 1]+0.299*bgr_img[:, :, 2]\n",
    "    return np.uint8(g)\n",
    "\n",
    "\n",
    "img = cv.imread('./soccer.jpg')\n",
    "\n",
    "start = time.time()\n",
    "my_cvtGray1(img)\n",
    "print('My time1:', time.time()-start)\n",
    "\n",
    "start = time.time()\n",
    "my_cvtGray2(img)\n",
    "print('My time2:', time.time()-start)\n",
    "\n",
    "start = time.time()\n",
    "cv.cvtColor(img, cv.COLOR_BGR2GRAY)\n",
    "print('OpenCV time:', time.time()-start)\n"
   ]
  }
 ],
 "metadata": {
  "kernelspec": {
   "display_name": "ai_env",
   "language": "python",
   "name": "python3"
  },
  "language_info": {
   "codemirror_mode": {
    "name": "ipython",
    "version": 3
   },
   "file_extension": ".py",
   "mimetype": "text/x-python",
   "name": "python",
   "nbconvert_exporter": "python",
   "pygments_lexer": "ipython3",
   "version": "3.11.9"
  },
  "orig_nbformat": 4
 },
 "nbformat": 4,
 "nbformat_minor": 2
}
