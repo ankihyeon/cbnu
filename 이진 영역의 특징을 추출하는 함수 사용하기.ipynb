{
 "cells": [
  {
   "cell_type": "code",
   "execution_count": 1,
   "metadata": {},
   "outputs": [
    {
     "name": "stdout",
     "output_type": "stream",
     "text": [
      "면적= 42390.0 \n",
      "중점=( 187.72464024534088 , 144.43640402610677 ) \n",
      "둘레= 2296.7291333675385 \n",
      "둥근 정도= 0.1009842680321435\n"
     ]
    }
   ],
   "source": [
    "import skimage\n",
    "import numpy as np\n",
    "import cv2 as cv\n",
    "\n",
    "orig = skimage.data.horse()\n",
    "img = 255-np.uint8(orig)*255\n",
    "cv.imshow('Horse', img)\n",
    "\n",
    "contours, hierarchy = cv.findContours(\n",
    "    img, cv.RETR_EXTERNAL, cv.CHAIN_APPROX_NONE)\n",
    "\n",
    "img2 = cv.cvtColor(img, cv.COLOR_GRAY2BGR)\n",
    "cv.drawContours(img2, contours, -1, (255, 0, 255), 2)\n",
    "cv.imshow('Horse with contour', img2)\n",
    "\n",
    "contour = contours[0]\n",
    "\n",
    "m = cv.moments(contour)\n",
    "area = cv.contourArea(contour)\n",
    "cx, cy = m['m10']/m['m00'], m['m01']/m['m00']\n",
    "perimeter = cv.arcLength(contour, True)\n",
    "roundness = (4.0*np.pi*area)/(perimeter*perimeter)\n",
    "print('면적=', area, '\\n중점=(', cx, ',', cy, ')',\n",
    "      '\\n둘레=', perimeter, '\\n둥근 정도=', roundness)\n",
    "\n",
    "img3 = cv.cvtColor(img, cv.COLOR_GRAY2BGR)\n",
    "\n",
    "contour_approx = cv.approxPolyDP(contour, 8, True)\n",
    "cv.drawContours(img3, [contour_approx], -1, (0, 255, 0), 2)\n",
    "\n",
    "hull = cv.convexHull(contour)\n",
    "hull = hull.reshape(1, hull.shape[0], hull.shape[2])\n",
    "cv.drawContours(img3, hull, -1, (0, 0, 255), 2)\n",
    "\n",
    "cv.imshow('Horse with line segments and convex hull', img3)\n",
    "\n",
    "cv.waitKey()\n",
    "cv.destroyAllWindows()\n"
   ]
  }
 ],
 "metadata": {
  "kernelspec": {
   "display_name": "ai_env",
   "language": "python",
   "name": "python3"
  },
  "language_info": {
   "codemirror_mode": {
    "name": "ipython",
    "version": 3
   },
   "file_extension": ".py",
   "mimetype": "text/x-python",
   "name": "python",
   "nbconvert_exporter": "python",
   "pygments_lexer": "ipython3",
   "version": "3.11.9"
  },
  "orig_nbformat": 4
 },
 "nbformat": 4,
 "nbformat_minor": 2
}
