{
 "cells": [
  {
   "cell_type": "code",
   "execution_count": 5,
   "metadata": {},
   "outputs": [
    {
     "name": "stdout",
     "output_type": "stream",
     "text": [
      "(400, 600, 3)  Coffee 영상을 분할하는데  1.7148442268371582 초 소요\n"
     ]
    }
   ],
   "source": [
    "import skimage\n",
    "import numpy as np\n",
    "import cv2 as cv\n",
    "import time\n",
    "\n",
    "coffee = skimage.data.coffee()\n",
    "\n",
    "start = time.time()\n",
    "slic = skimage.segmentation.slic(\n",
    "    coffee, compactness=20, n_segments=600, start_label=1)\n",
    "g = skimage.graph.rag_mean_color(coffee, slic, mode='similarity')\n",
    "ncut = skimage.graph.cut_normalized(slic, g)\n",
    "print(coffee.shape, ' Coffee 영상을 분할하는데 ', time.time()-start, '초 소요')\n",
    "\n",
    "marking = skimage.segmentation.mark_boundaries(coffee, ncut)\n",
    "ncut_coffee = np.uint8(marking*255.0)\n",
    "\n",
    "cv.imshow('Normalized cut', cv.cvtColor(ncut_coffee, cv.COLOR_RGB2BGR))\n",
    "\n",
    "cv.waitKey()\n",
    "cv.destroyAllWindows()\n"
   ]
  }
 ],
 "metadata": {
  "kernelspec": {
   "display_name": "ai_env",
   "language": "python",
   "name": "python3"
  },
  "language_info": {
   "codemirror_mode": {
    "name": "ipython",
    "version": 3
   },
   "file_extension": ".py",
   "mimetype": "text/x-python",
   "name": "python",
   "nbconvert_exporter": "python",
   "pygments_lexer": "ipython3",
   "version": "3.11.9"
  },
  "orig_nbformat": 4
 },
 "nbformat": 4,
 "nbformat_minor": 2
}
