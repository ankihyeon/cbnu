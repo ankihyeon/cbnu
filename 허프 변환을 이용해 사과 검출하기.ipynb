{
 "cells": [
  {
   "cell_type": "code",
   "execution_count": 1,
   "metadata": {},
   "outputs": [],
   "source": [
    "import cv2 as cv\n",
    "\n",
    "img = cv.imread('./apples.jpg')\n",
    "gray = cv.cvtColor(img, cv.COLOR_BGR2GRAY)\n",
    "\n",
    "apples = cv.HoughCircles(gray, cv.HOUGH_GRADIENT, 1, 200,\n",
    "                         param1=150, param2=20, minRadius=50, maxRadius=120)\n",
    "\n",
    "for i in apples[0]:\n",
    "    cv.circle(img, (int(i[0]), int(i[1])), int(i[2]), (255, 0, 0), 2)\n",
    "\n",
    "cv.imshow('Apple detection', img)\n",
    "\n",
    "cv.waitKey()\n",
    "cv.destroyAllWindows()\n"
   ]
  }
 ],
 "metadata": {
  "kernelspec": {
   "display_name": "ai_env",
   "language": "python",
   "name": "python3"
  },
  "language_info": {
   "codemirror_mode": {
    "name": "ipython",
    "version": 3
   },
   "file_extension": ".py",
   "mimetype": "text/x-python",
   "name": "python",
   "nbconvert_exporter": "python",
   "pygments_lexer": "ipython3",
   "version": "3.11.9"
  },
  "orig_nbformat": 4
 },
 "nbformat": 4,
 "nbformat_minor": 2
}
